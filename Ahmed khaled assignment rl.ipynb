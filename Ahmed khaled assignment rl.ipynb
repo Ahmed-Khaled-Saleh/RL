{
 "cells": [
  {
   "attachments": {
    "image.png": {
     "image/png": "[encoded data removed]"
    }
   },
   "cell_type": "markdown",
   "id": "6c2057d4",
   "metadata": {},
   "source": [
    "# RL: The true AI\n",
    "\n",
    "Reinforcment learning is the branch of machine learning that tries to find the optimal policy the agent should follow in an environemnt.\n",
    "The following picture is a summary of a given reinforecment learning environemnt and the actions that an agent take.\n",
    "\n",
    "![image.png](attachment:image.png)"
   ]
  },
  {
   "cell_type": "code",
   "execution_count": 1,
   "id": "28b06f7b",
   "metadata": {},
   "outputs": [
    {
     "name": "stderr",
     "output_type": "stream",
     "text": [
      "/home/ahmed/anaconda3/lib/python3.9/site-packages/gym/envs/registration.py:423: UserWarning: \u001b[33mWARN: Custom namespace `ALE` is being overridden by namespace `ALE`. If you are developing a plugin you shouldn't specify a namespace in `register` calls. The namespace is specified through the entry point package metadata.\u001b[0m\n",
      "  logger.warn(\n"
     ]
    }
   ],
   "source": [
    "import math\n",
    "from numpy import array\n",
    "import numpy as np\n",
    "from math import inf\n",
    "import gym\n",
    "from IPython.display import clear_output\n",
    "from time import sleep\n",
    "import random\n",
    "import pandas as pd\n",
    "import matplotlib.pyplot as plt\n",
    "from warnings import filterwarnings\n",
    "filterwarnings('ignore')"
   ]
  },
  {
   "cell_type": "markdown",
   "id": "0617a5ca",
   "metadata": {},
   "source": [
    "let us generalize the Making of environment.  The function accepts any valid environment's name."
   ]
  },
  {
   "cell_type": "code",
   "execution_count": 2,
   "id": "f94e034e",
   "metadata": {},
   "outputs": [],
   "source": [
    "def MakeEnv(env_name:str):\n",
    "    return gym.make(env_name).env\n",
    "env = MakeEnv('Taxi-v3')"
   ]
  },
  {
   "cell_type": "markdown",
   "id": "c20c6fae",
   "metadata": {},
   "source": [
    "## Non-RL solution\n",
    "\n",
    "This solution uses a naive, non-RL-based approach."
   ]
  },
  {
   "cell_type": "code",
   "execution_count": 3,
   "id": "d2d0fd88",
   "metadata": {},
   "outputs": [],
   "source": [
    "frames = []\n",
    "def NaiveSolution(env, frames, penalties=0, reward=0, epochs=0):\n",
    "    done = False\n",
    "    while not done:\n",
    "      # automatically selects one random action \n",
    "        action = env.action_space.sample()\n",
    "        state, reward, done, info = env.step(action)\n",
    "        if reward == -10:\n",
    "            penalties += 1\n",
    "\n",
    "        # Put each rendered frame into dict for animation\n",
    "        frames.append({\n",
    "            'frame': env.render(mode='ansi'),\n",
    "            'state': state,\n",
    "            'action': action,\n",
    "            'reward': reward\n",
    "            }\n",
    "        )\n",
    "\n",
    "        epochs += 1\n",
    "    return epochs, penalties\n",
    "epochs, penalties = NaiveSolution(env, frames)"
   ]
  },
  {
   "cell_type": "markdown",
   "id": "3cc18b8b",
   "metadata": {},
   "source": [
    "The following function visualizes the process of the non-RL-based solution."
   ]
  },
  {
   "cell_type": "code",
   "execution_count": 4,
   "id": "3708762e",
   "metadata": {},
   "outputs": [],
   "source": [
    "def print_frames(frames):\n",
    "    for i, frame in enumerate(frames):\n",
    "        clear_output(wait=True)\n",
    "        #print(frame['frame'].getvalue())\n",
    "        print(frame['frame'])\n",
    "        print(f\"Timestep: {i + 1}\")\n",
    "        print(f\"State: {frame['state']}\")\n",
    "        print(f\"Action: {frame['action']}\")\n",
    "        print(f\"Reward: {frame['reward']}\")\n",
    "        sleep(.1)\n",
    "\n",
    "\n",
    "# uncomment the below command to visualize the process tha egent goes through.        \n",
    "#print_frames(frames)"
   ]
  },
  {
   "cell_type": "markdown",
   "id": "60fffe08",
   "metadata": {},
   "source": [
    "## Decay of hyper parameters\n",
    "\n",
    "we have three hyper parameters in the Q-learning algorithm:\n",
    "1. $\\alpha$: learning rate or how much we update the . \n",
    "2. $\\gamma$: how much the agent is greedy for immediate higher q_value.\n",
    "3. $\\epsilon$: exploration vs exploitation probabilities.\n",
    "\n",
    "The following [link](https://stackoverflow.com/questions/53198503/epsilon-and-learning-rate-decay-in-epsilon-greedy-q-learning) proposes wha is called **decayed_epsilon_greedy**. which follows the following equation:\n",
    "$$r = \\max (\\frac{N - n_s}{N}, 0)$$ \n",
    "$$\\epsilon = (p_i - p_e) * r + p_e$$\n",
    "\n",
    "But how to update $\\alpha$ and $\\gamma$? this is not a single approach task but a set of tricks that can be used according to the situation. This [link](https://towardsdatascience.com/learning-rate-schedules-and-adaptive-learning-rate-methods-for-deep-learning-2c8f433990d1) clarifies that the update of $\\alpha$ could be as simple as dropping it to half.\n",
    "\n",
    "since there is not a universal policy on how to do the decay of $\\gamma$, I prefer not to touch it.\n",
    "\n",
    "The thing is, there is no optimal policy on how to update those hyper parameters since we have different approaches depending on the environment and the situation. for example, there is a momentum-based approach to update the learning rate and there is a time-based approach.\n"
   ]
  },
  {
   "cell_type": "code",
   "execution_count": 5,
   "id": "3eb0f89a",
   "metadata": {},
   "outputs": [],
   "source": [
    "def decayed_epsilon_greedy(epsilon, N, n_steps=10, p_init=0.6, p_end=0.1):\n",
    "    '''\n",
    "        uses the above two equations to update the epsilon.\n",
    "    '''\n",
    "    r = max(0, ((N - n_steps) / N))\n",
    "    return (p_init - p_end) * r + p_end\n",
    "    \n",
    "def update_alpha(alpha, alpha_0=0.1, drop=0.6, N=10000, epochs_drop=10000):\n",
    "    '''\n",
    "        the simplest approach is to drop alpha to half or close to half.\n",
    "    '''\n",
    "    return alpha /1.5\n"
   ]
  },
  {
   "cell_type": "markdown",
   "id": "b4a6d6cd",
   "metadata": {},
   "source": [
    "### Q learning Algorithm\n",
    "\n",
    "The Q-learning algorithm is very simple to implement. It maintains a table, called *Q table* that shows the state aginst all the rewards of every possible move you take from this step. During iterations, we are going to apply the decay schedule defined above."
   ]
  },
  {
   "cell_type": "code",
   "execution_count": 6,
   "id": "4d75368f",
   "metadata": {},
   "outputs": [
    {
     "name": "stdout",
     "output_type": "stream",
     "text": [
      "Episode: 100000\n",
      "Training finished.\n",
      "\n"
     ]
    }
   ],
   "source": [
    "all_epsilons = []\n",
    "all_alphas = []\n",
    "all_gammas = []\n",
    "\n",
    "def Q_learning(env, hyper_params, fixed_params=False):\n",
    "    global frames\n",
    "    frames = []\n",
    "    q_table = np.zeros([env.observation_space.n, env.action_space.n])\n",
    "    \n",
    "    # Hyperparameters\n",
    "    alpha = hyper_params['alpha']\n",
    "    gamma = hyper_params['gamma']\n",
    "    epsilon = hyper_params['epsilon']\n",
    "\n",
    "    # For plotting metrics\n",
    "    all_epochs = []\n",
    "    all_penalties = []\n",
    "    \n",
    "    \n",
    "    all_epsilons.append(epsilon)\n",
    "    all_alphas.append(alpha)\n",
    "    all_gammas.append(gamma)\n",
    "    N = 100001\n",
    "    for i in range(1, N):\n",
    "        state = env.reset()\n",
    "        \n",
    "        all_epsilons.append(epsilon)\n",
    "        all_alphas.append(alpha)\n",
    "        all_gammas.append(gamma)\n",
    "        \n",
    "        epochs, penalties, reward, = 0, 0, 0\n",
    "        done = False\n",
    "\n",
    "        while not done:\n",
    "            if random.uniform(0, 1) < epsilon:\n",
    "                action = env.action_space.sample() # Explore action space\n",
    "            else:\n",
    "                action = np.argmax(q_table[state]) # Exploit learned values\n",
    "\n",
    "            next_state, reward, done, info = env.step(action) \n",
    "\n",
    "            old_value = q_table[state, action]\n",
    "            next_max = np.max(q_table[next_state])\n",
    "\n",
    "            new_value = (1 - alpha) * old_value + alpha * (reward + gamma * next_max)\n",
    "            q_table[state, action] = new_value\n",
    "            \n",
    "            frames.append({\n",
    "            'frame': env.render(mode='ansi'),\n",
    "            'state': state,\n",
    "            'action': action,\n",
    "            'reward': reward\n",
    "            }\n",
    "        )\n",
    "            \n",
    "            if reward == -10:\n",
    "                penalties += 1\n",
    "\n",
    "            state = next_state\n",
    "            epochs += 1\n",
    "        if i% 20000 == 0: \n",
    "            if not fixed_params:\n",
    "                epsilon = decayed_epsilon_greedy(epsilon, N, i, 0.1, 0.001)\n",
    "                alpha = update_alpha(alpha)\n",
    " \n",
    "\n",
    "        if i % 100 == 0:\n",
    "            clear_output(wait=True)\n",
    "            print(f\"Episode: {i}\")\n",
    "\n",
    "    print(\"Training finished.\\n\")\n",
    "    \n",
    "    return q_table\n",
    "\n",
    "hyper_params = {'alpha' : 0.1, 'gamma' : 0.6, 'epsilon' : 0.1}\n",
    "q_table = Q_learning(env, hyper_params)"
   ]
  },
  {
   "cell_type": "markdown",
   "id": "0bf533fc",
   "metadata": {},
   "source": [
    "The following is a visualization of the process of training the agent. \n",
    "\n",
    "**Warning: It will take time, a long time**"
   ]
  },
  {
   "cell_type": "code",
   "execution_count": 7,
   "id": "ffba19c6",
   "metadata": {},
   "outputs": [],
   "source": [
    "# uncomment to visualize.\n",
    "#print_frames(frames)"
   ]
  },
  {
   "cell_type": "markdown",
   "id": "aba1b1c5",
   "metadata": {},
   "source": [
    "The resulting Q_table is as follows:"
   ]
  },
  {
   "cell_type": "code",
   "execution_count": 8,
   "id": "ebfc5d2e",
   "metadata": {},
   "outputs": [
    {
     "data": {
      "text/html": [
       "<div>\n",
       "<style scoped>\n",
       "    .dataframe tbody tr th:only-of-type {\n",
       "        vertical-align: middle;\n",
       "    }\n",
       "\n",
       "    .dataframe tbody tr th {\n",
       "        vertical-align: top;\n",
       "    }\n",
       "\n",
       "    .dataframe thead th {\n",
       "        text-align: right;\n",
       "    }\n",
       "</style>\n",
       "<table border=\"1\" class=\"dataframe\">\n",
       "  <thead>\n",
       "    <tr style=\"text-align: right;\">\n",
       "      <th></th>\n",
       "      <th>South(0)</th>\n",
       "      <th>North(1)</th>\n",
       "      <th>East(2)</th>\n",
       "      <th>West(3)</th>\n",
       "      <th>Pickup(4)</th>\n",
       "      <th>Dropoff(5)</th>\n",
       "    </tr>\n",
       "  </thead>\n",
       "  <tbody>\n",
       "    <tr>\n",
       "      <th>state 1</th>\n",
       "      <td>0.000000</td>\n",
       "      <td>0.000000</td>\n",
       "      <td>0.000000</td>\n",
       "      <td>0.000000</td>\n",
       "      <td>0.000000</td>\n",
       "      <td>0.000000</td>\n",
       "    </tr>\n",
       "    <tr>\n",
       "      <th>state 2</th>\n",
       "      <td>-2.417803</td>\n",
       "      <td>-2.363885</td>\n",
       "      <td>-2.418147</td>\n",
       "      <td>-2.363831</td>\n",
       "      <td>-2.273252</td>\n",
       "      <td>-11.350228</td>\n",
       "    </tr>\n",
       "    <tr>\n",
       "      <th>state 3</th>\n",
       "      <td>-1.869571</td>\n",
       "      <td>-1.450733</td>\n",
       "      <td>-1.869926</td>\n",
       "      <td>-1.450827</td>\n",
       "      <td>-0.750400</td>\n",
       "      <td>-10.434644</td>\n",
       "    </tr>\n",
       "    <tr>\n",
       "      <th>state 4</th>\n",
       "      <td>-2.362985</td>\n",
       "      <td>-2.273151</td>\n",
       "      <td>-2.363114</td>\n",
       "      <td>-2.273206</td>\n",
       "      <td>-2.122086</td>\n",
       "      <td>-11.250705</td>\n",
       "    </tr>\n",
       "    <tr>\n",
       "      <th>state 5</th>\n",
       "      <td>-2.496190</td>\n",
       "      <td>-2.496470</td>\n",
       "      <td>-2.496190</td>\n",
       "      <td>-2.496544</td>\n",
       "      <td>-8.756236</td>\n",
       "      <td>-10.167336</td>\n",
       "    </tr>\n",
       "    <tr>\n",
       "      <th>...</th>\n",
       "      <td>...</td>\n",
       "      <td>...</td>\n",
       "      <td>...</td>\n",
       "      <td>...</td>\n",
       "      <td>...</td>\n",
       "      <td>...</td>\n",
       "    </tr>\n",
       "    <tr>\n",
       "      <th>state 496</th>\n",
       "      <td>0.000000</td>\n",
       "      <td>0.000000</td>\n",
       "      <td>0.000000</td>\n",
       "      <td>0.000000</td>\n",
       "      <td>0.000000</td>\n",
       "      <td>0.000000</td>\n",
       "    </tr>\n",
       "    <tr>\n",
       "      <th>state 497</th>\n",
       "      <td>-2.126881</td>\n",
       "      <td>-2.114675</td>\n",
       "      <td>-2.116586</td>\n",
       "      <td>-2.114739</td>\n",
       "      <td>-3.211963</td>\n",
       "      <td>-6.203870</td>\n",
       "    </tr>\n",
       "    <tr>\n",
       "      <th>state 498</th>\n",
       "      <td>-1.149138</td>\n",
       "      <td>0.402312</td>\n",
       "      <td>-1.198993</td>\n",
       "      <td>-1.210810</td>\n",
       "      <td>-3.490574</td>\n",
       "      <td>-2.832574</td>\n",
       "    </tr>\n",
       "    <tr>\n",
       "      <th>state 499</th>\n",
       "      <td>-2.120781</td>\n",
       "      <td>-2.117061</td>\n",
       "      <td>-2.120237</td>\n",
       "      <td>-2.116967</td>\n",
       "      <td>-4.846041</td>\n",
       "      <td>-4.907152</td>\n",
       "    </tr>\n",
       "    <tr>\n",
       "      <th>state 500</th>\n",
       "      <td>-0.100000</td>\n",
       "      <td>0.385137</td>\n",
       "      <td>1.260043</td>\n",
       "      <td>11.000000</td>\n",
       "      <td>-1.834238</td>\n",
       "      <td>-1.309347</td>\n",
       "    </tr>\n",
       "  </tbody>\n",
       "</table>\n",
       "<p>500 rows × 6 columns</p>\n",
       "</div>"
      ],
      "text/plain": [
       "           South(0)  North(1)   East(2)    West(3)  Pickup(4)  Dropoff(5)\n",
       "state 1    0.000000  0.000000  0.000000   0.000000   0.000000    0.000000\n",
       "state 2   -2.417803 -2.363885 -2.418147  -2.363831  -2.273252  -11.350228\n",
       "state 3   -1.869571 -1.450733 -1.869926  -1.450827  -0.750400  -10.434644\n",
       "state 4   -2.362985 -2.273151 -2.363114  -2.273206  -2.122086  -11.250705\n",
       "state 5   -2.496190 -2.496470 -2.496190  -2.496544  -8.756236  -10.167336\n",
       "...             ...       ...       ...        ...        ...         ...\n",
       "state 496  0.000000  0.000000  0.000000   0.000000   0.000000    0.000000\n",
       "state 497 -2.126881 -2.114675 -2.116586  -2.114739  -3.211963   -6.203870\n",
       "state 498 -1.149138  0.402312 -1.198993  -1.210810  -3.490574   -2.832574\n",
       "state 499 -2.120781 -2.117061 -2.120237  -2.116967  -4.846041   -4.907152\n",
       "state 500 -0.100000  0.385137  1.260043  11.000000  -1.834238   -1.309347\n",
       "\n",
       "[500 rows x 6 columns]"
      ]
     },
     "execution_count": 8,
     "metadata": {},
     "output_type": "execute_result"
    }
   ],
   "source": [
    "cols = ['South(0)', 'North(1)', 'East(2)', 'West(3)', 'Pickup(4)', 'Dropoff(5)']\n",
    "index = ['state ' + str(i) for i in range(1, 501)]\n",
    "pd.DataFrame(q_table, columns=cols, index=index)"
   ]
  },
  {
   "cell_type": "markdown",
   "id": "0c77602a",
   "metadata": {},
   "source": [
    "### Debugging our hyperparamters decay schedule.\n",
    "\n",
    "To make sure that the decay is really working, we can visualize how they are changing over the training iterations. If they are approaching zero as the number of iterations get colse to end, then it really works. The following function is doing just this."
   ]
  },
  {
   "cell_type": "code",
   "execution_count": 9,
   "id": "cf95fd30",
   "metadata": {},
   "outputs": [
    {
     "data": {
      "image/png": "[encoded data removed]",
      "text/plain": [
       "<Figure size 432x288 with 1 Axes>"
      ]
     },
     "metadata": {
      "needs_background": "light"
     },
     "output_type": "display_data"
    }
   ],
   "source": [
    "def debug(all_epsilons, all_alphas, all_gamas = []):\n",
    "    plt.plot(np.arange(0, 100001), all_epsilons, \"-b\",  label=\"epsilon\")\n",
    "    plt.plot(np.arange(0, 100001), all_alphas, \"-r\", label= \"alpha\")\n",
    "    #plt.plot(np.arange(0, 100001), all_gammas, \"-g\", label= \"gamma\")\n",
    "    plt.legend(loc=\"upper right\")\n",
    "    plt.xlabel('# training iterations')\n",
    "\n",
    "debug(all_epsilons, all_alphas, all_gammas)"
   ]
  },
  {
   "cell_type": "markdown",
   "id": "cb966c86",
   "metadata": {},
   "source": [
    "We can clearly see that the curve gets colser to zero as it approaches N (the total number of iterations).\n",
    "$$\\lim_{i \\to N} \\epsilon = 0$$ and also $$\\lim_{i \\to N} \\alpha = 0$$"
   ]
  },
  {
   "cell_type": "markdown",
   "id": "233ce7e4",
   "metadata": {},
   "source": [
    "### Evaluating the Agent:\n",
    "we evluate the agent given the resulting q table. we use the first 100 episodes to evaluate."
   ]
  },
  {
   "cell_type": "code",
   "execution_count": 10,
   "id": "77cea8aa",
   "metadata": {},
   "outputs": [
    {
     "name": "stdout",
     "output_type": "stream",
     "text": [
      "Results after 100 episodes:\n",
      "Average timesteps per episode: 13.25\n",
      "Average penalties per episode: 0.0\n",
      "Average rewards per episode 0.2\n",
      "Total rewards is 775\n"
     ]
    },
    {
     "data": {
      "text/plain": [
       "(13.25, 0, 775)"
      ]
     },
     "execution_count": 10,
     "metadata": {},
     "output_type": "execute_result"
    }
   ],
   "source": [
    "def evalAgent(env, q_table):\n",
    "    # Evaluation\n",
    "    \"\"\"\n",
    "    Evaluate agent's performance after Q-learning based on the given q_table\n",
    "    \n",
    "    \"\"\"\n",
    "    \n",
    "    total_epochs, total_penalties = 0, 0\n",
    "    episodes = 100\n",
    "    R = 0\n",
    "    for _ in range(episodes):\n",
    "        \n",
    "        state = env.reset()\n",
    "        epochs, penalties, reward = 0, 0, 0\n",
    "\n",
    "        done = False\n",
    "\n",
    "        while not done:\n",
    "            action = np.argmax(q_table[state])\n",
    "            state, reward, done, info = env.step(action)\n",
    "\n",
    "            if reward == -10:\n",
    "                penalties += 1\n",
    "\n",
    "            epochs += 1\n",
    "            R += reward\n",
    "        total_penalties += penalties\n",
    "        total_epochs += epochs\n",
    "    print(f\"Results after {episodes} episodes:\")\n",
    "    print(f\"Average timesteps per episode: {total_epochs / episodes}\")\n",
    "    print(f\"Average penalties per episode: {total_penalties / episodes}\")\n",
    "    print(f\"Average rewards per episode {reward/episodes}\")\n",
    "    print(f\"Total rewards is {R}\")\n",
    "    return total_epochs/episodes, total_penalties, R\n",
    "    \n",
    "evalAgent(env, q_table)"
   ]
  },
  {
   "cell_type": "markdown",
   "id": "64c71429",
   "metadata": {},
   "source": [
    "### GridSearch: Automating Hyperparmater optimization\n",
    "\n",
    "GridSearch attempts to find the best combination of hyperparameters from a given set of combinations. It goes through all the combination that you specify and find the best Q table resulted from learning. \n",
    "\n",
    "Here, I made 4 combinations only to make sure that the grid_search will not take a lot of time."
   ]
  },
  {
   "cell_type": "code",
   "execution_count": 11,
   "id": "8893cc21",
   "metadata": {},
   "outputs": [
    {
     "name": "stdout",
     "output_type": "stream",
     "text": [
      "Episode: 100000\n",
      "Training finished.\n",
      "\n",
      "Results after 100 episodes:\n",
      "Average timesteps per episode: 12.93\n",
      "Average penalties per episode: 0.0\n",
      "Average rewards per episode 0.2\n",
      "Total rewards is 807\n"
     ]
    }
   ],
   "source": [
    "models_info = []\n",
    "def grid_search(params:list) -> None:\n",
    "    \n",
    "    global env\n",
    "    global models_info\n",
    "    for param in params:\n",
    "        q_table = Q_learning(env, param, fixed_params=True)\n",
    "        total_epochs, penalties, R = evalAgent(env, q_table)\n",
    "        models_info.append([total_epochs, penalties, R, param])\n",
    "\n",
    "comb_1 = {'alpha':0.1, 'gamma':0.6 , 'epsilon':0.1}\n",
    "comb_2 = {'alpha':0.1, 'gamma':0.6 , 'epsilon':0.01}\n",
    "comb_3 = {'alpha':0.1, 'gamma':0.5 , 'epsilon':0.1}\n",
    "comb_4 = {'alpha':0.3, 'gamma':0.5 , 'epsilon':0.01}\n",
    "\n",
    "hyper_params = [comb_1, comb_2, comb_3, comb_4]\n",
    "\n",
    "grid_search(hyper_params)"
   ]
  },
  {
   "cell_type": "markdown",
   "id": "a1d9dfb4",
   "metadata": {},
   "source": [
    "Now, we have two options:\n",
    "1. choosing the model with the highest reward values.\n",
    "2. choosing the model with the lowest penalities.\n",
    "\n",
    "I choose the first method."
   ]
  },
  {
   "cell_type": "code",
   "execution_count": 12,
   "id": "1c533b96",
   "metadata": {},
   "outputs": [
    {
     "data": {
      "text/plain": [
       "{'alpha': 0.1, 'gamma': 0.6, 'epsilon': 0.1}"
      ]
     },
     "execution_count": 12,
     "metadata": {},
     "output_type": "execute_result"
    }
   ],
   "source": [
    "max_reward = models_info[0][2]\n",
    "best_params = models_info[0][3]\n",
    "for model in models_info:\n",
    "    if model[2] > max_reward:\n",
    "        max_reward = model[2]\n",
    "        best_params = model[3]\n",
    "best_params"
   ]
  },
  {
   "cell_type": "code",
   "execution_count": null,
   "id": "e286aa0d",
   "metadata": {},
   "outputs": [],
   "source": []
  }
 ],
 "metadata": {
  "kernelspec": {
   "display_name": "Python 3 (ipykernel)",
   "language": "python",
   "name": "python3"
  },
  "language_info": {
   "codemirror_mode": {
    "name": "ipython",
    "version": 3
   },
   "file_extension": ".py",
   "mimetype": "text/x-python",
   "name": "python",
   "nbconvert_exporter": "python",
   "pygments_lexer": "ipython3",
   "version": "3.9.7"
  }
 },
 "nbformat": 4,
 "nbformat_minor": 5
}
